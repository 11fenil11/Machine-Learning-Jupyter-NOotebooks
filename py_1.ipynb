{
 "cells": [
  {
   "cell_type": "code",
   "execution_count": 28,
   "metadata": {},
   "outputs": [
    {
     "name": "stdout",
     "output_type": "stream",
     "text": [
      "x= 0b11\n",
      "y= 0b1001\n",
      "3|9 z= 0b1011                value of z= 11\n",
      "3&9 z= 0b1                 value of z= 1\n",
      "3^9 z= 0b1010                   value of z= 10\n",
      "~3 z= -0b100                   value of z= -4\n",
      "3>>2 z= 0b10                   value of z= 2\n",
      "3<<2 z= 0b101000                 value of z= 40\n"
     ]
    }
   ],
   "source": [
    "x=bin(3)\n",
    "y=bin(9)\n",
    "z=bin(3|9)\n",
    "zd=int(3|9)\n",
    "print(\"x=\",x)\n",
    "print(\"y=\",y)\n",
    "print(\"3|9 z=\",z,\"               value of z=\",zd)\n",
    "z=bin(3&9)\n",
    "zd=int(3&9)\n",
    "print(\"3&9 z=\",z,\"                value of z=\",zd)\n",
    "z=bin(3^9)\n",
    "zd=int(3^9)\n",
    "print(\"3^9 z=\",z,\"                  value of z=\",zd)\n",
    "z=bin(~3)\n",
    "zd=int(~3)\n",
    "print(\"~3 z=\",z,\"                  value of z=\",zd)\n",
    "x=10\n",
    "z=bin(x>>2)\n",
    "zd=int(x>>2)\n",
    "print(\"3>>2 z=\",z,\"                  value of z=\",zd)\n",
    "z=bin(x<<2)\n",
    "zd=int(x<<2)\n",
    "print(\"3<<2 z=\",z,\"                value of z=\",zd)"
   ]
  },
  {
   "cell_type": "code",
   "execution_count": null,
   "metadata": {},
   "outputs": [],
   "source": []
  },
  {
   "cell_type": "code",
   "execution_count": null,
   "metadata": {},
   "outputs": [],
   "source": []
  }
 ],
 "metadata": {
  "kernelspec": {
   "display_name": "Python 3",
   "language": "python",
   "name": "python3"
  },
  "language_info": {
   "codemirror_mode": {
    "name": "ipython",
    "version": 3
   },
   "file_extension": ".py",
   "mimetype": "text/x-python",
   "name": "python",
   "nbconvert_exporter": "python",
   "pygments_lexer": "ipython3",
   "version": "3.7.1"
  }
 },
 "nbformat": 4,
 "nbformat_minor": 2
}
